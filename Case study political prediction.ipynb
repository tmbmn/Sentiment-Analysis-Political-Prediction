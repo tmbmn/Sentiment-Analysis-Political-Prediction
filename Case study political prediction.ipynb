{
 "cells": [
  {
   "cell_type": "markdown",
   "metadata": {
    "id": "v-6I3EqPs9G6"
   },
   "source": [
    "### **Case Study: \"Political Prediction\"**"
   ]
  },
  {
   "cell_type": "markdown",
   "metadata": {
    "id": "JV97VUcvuHkU"
   },
   "source": [
    "### 1. Frame the Problem"
   ]
  },
  {
   "cell_type": "markdown",
   "metadata": {
    "id": "JwTkRaeHtUXu"
   },
   "source": [
    "Our data set contains agreement from different parties on various political\n",
    "statements. The statements were used in the so-called Wahl O mat (election mat) to query the political opinion of individuals and to match it with the political party's election programme/opinion.\n",
    "The task for this homework is to train classifier that can predict one of the following parties’ position (0 vs. 1): SPD, CDU, FDP, Die Linke. To complete this assignment I will focus on the SPD and train models accordingly"
   ]
  },
  {
   "cell_type": "markdown",
   "metadata": {
    "id": "KhUXuwNMuMeM"
   },
   "source": [
    "### 2. Get the Data"
   ]
  },
  {
   "cell_type": "markdown",
   "metadata": {},
   "source": [
    "**Import libraries**"
   ]
  },
  {
   "cell_type": "code",
   "execution_count": 1,
   "metadata": {
    "id": "Vq3mBfReuMrt"
   },
   "outputs": [
    {
     "name": "stderr",
     "output_type": "stream",
     "text": [
      "[nltk_data] Downloading package punkt to\n",
      "[nltk_data]     C:\\Users\\tbandmann\\AppData\\Roaming\\nltk_data...\n",
      "[nltk_data]   Unzipping tokenizers\\punkt.zip.\n",
      "[nltk_data] Downloading package stopwords to\n",
      "[nltk_data]     C:\\Users\\tbandmann\\AppData\\Roaming\\nltk_data...\n",
      "[nltk_data]   Unzipping corpora\\stopwords.zip.\n"
     ]
    }
   ],
   "source": [
    "import pandas as pd\n",
    "import nltk\n",
    "nltk.download('punkt')\n",
    "nltk.download('stopwords')\n",
    "from nltk.corpus import stopwords\n",
    "stop = stopwords.words('german')\n",
    "from nltk.tokenize import word_tokenize \n",
    "import re\n",
    "import matplotlib\n",
    "import matplotlib.pyplot as plt\n",
    "from sklearn import metrics\n",
    "from sklearn.metrics import precision_score\n",
    "from sklearn.metrics import recall_score\n",
    "from sklearn.metrics import f1_score\n",
    "from sklearn.metrics import classification_report\n",
    "from sklearn.metrics import confusion_matrix\n",
    "import seaborn as sns"
   ]
  },
  {
   "cell_type": "markdown",
   "metadata": {},
   "source": [
    "**Import data**"
   ]
  },
  {
   "cell_type": "code",
   "execution_count": 2,
   "metadata": {},
   "outputs": [],
   "source": [
    "path ='your path here'\n",
    "df = pd. read_csv(path+'PolPred_Data.csv')"
   ]
  },
  {
   "cell_type": "markdown",
   "metadata": {
    "id": "-oDWQV03uNNl"
   },
   "source": [
    "### 3. Explore the Data"
   ]
  },
  {
   "cell_type": "code",
   "execution_count": 3,
   "metadata": {
    "id": "IaWKKOGyuNVz"
   },
   "outputs": [
    {
     "name": "stdout",
     "output_type": "stream",
     "text": [
      "<class 'pandas.core.frame.DataFrame'>\n",
      "RangeIndex: 2021 entries, 0 to 2020\n",
      "Columns: 147 entries, statement to wir2020\n",
      "dtypes: float64(139), int64(6), object(2)\n",
      "memory usage: 2.3+ MB\n"
     ]
    }
   ],
   "source": [
    "#head of the dataset\n",
    "df.head()\n",
    "#tail of dataset\n",
    "df.tail()\n",
    "#shape of dataset\n",
    "df.shape\n",
    "#information about data\n",
    "df.info()"
   ]
  },
  {
   "cell_type": "markdown",
   "metadata": {},
   "source": [
    "**Preprocessing the data**"
   ]
  },
  {
   "cell_type": "code",
   "execution_count": 4,
   "metadata": {},
   "outputs": [],
   "source": [
    "# Code to lowercase\n",
    "df['text']=df['text'].str.lower()\n",
    "# Code to remove the Hashtags from the text\n",
    "df['text']=df['text'].apply(lambda x:re.sub(r'\\B#\\S+','',str(x)))\n",
    "# Code to remove the links from the text\n",
    "df['text']=df['text'].apply(lambda x:re.sub(r\"http\\S+\", \"\", str(x)))\n",
    "# Code to remove the Special characters from the text \n",
    "df['text']=df['text'].apply(lambda x:' '.join(re.findall(r'\\w+', str(x))))\n",
    "# Code to substitute the multiple spaces with single spaces\n",
    "df['text']=df['text'].apply(lambda x:re.sub(r'\\s+', ' ', x, flags=re.I))\n",
    "# Code to remove all the single characters in the text\n",
    "df['text']=df['text'].apply(lambda x:re.sub(r'\\s+[a-zA-Z]\\s+', '', x))\n",
    "# Remove the @ \n",
    "df['text']=df['text'].apply(lambda x:re.sub('@[^\\s]+','',x))"
   ]
  },
  {
   "cell_type": "markdown",
   "metadata": {},
   "source": [
    "**Removing stopwords**"
   ]
  },
  {
   "cell_type": "code",
   "execution_count": 9,
   "metadata": {},
   "outputs": [
    {
     "name": "stdout",
     "output_type": "stream",
     "text": [
      "All frequencies, including STOPWORDS:\n",
      "============================================================\n",
      "        Word  Frequency\n",
      "0     sollen        666\n",
      "1  weiterhin        181\n",
      "2       land        175\n",
      "3     dürfen        157\n",
      "4       mehr        104\n",
      "5   erhalten         99\n",
      "6  einsetzen         95\n",
      "7         eu         88\n",
      "8    sachsen         82\n",
      "9    schulen         78\n",
      "============================================================\n"
     ]
    },
    {
     "data": {
      "text/plain": [
       "<AxesSubplot:xlabel='Word'>"
      ]
     },
     "execution_count": 9,
     "metadata": {},
     "output_type": "execute_result"
    },
    {
     "data": {
      "image/png": "[encoded data removed]",
      "text/plain": [
       "<Figure size 432x288 with 1 Axes>"
      ]
     },
     "metadata": {},
     "output_type": "display_data"
    }
   ],
   "source": [
    "\n",
    "top_N = 10\n",
    "\n",
    "df['text']=df['text'].astype(str)\n",
    "txt = df.text.str.lower().str.replace(r'\\|', ' ', regex=True).str.cat(sep=' ')\n",
    "words = nltk.tokenize.word_tokenize(txt)\n",
    "word_dist = nltk.FreqDist(words)\n",
    "\n",
    "stopwords = nltk.corpus.stopwords.words('german')\n",
    "words_except_stop_dist = nltk.FreqDist(w for w in words if w not in stopwords) \n",
    "\n",
    "print('All frequencies, including STOPWORDS:')\n",
    "print('=' * 60)\n",
    "rslt = pd.DataFrame(word_dist.most_common(top_N),\n",
    "                    columns=['Word', 'Frequency'])\n",
    "print(rslt)\n",
    "print('=' * 60)\n",
    "\n",
    "rslt = pd.DataFrame(words_except_stop_dist.most_common(top_N),\n",
    "                    columns=['Word', 'Frequency']).set_index('Word')\n",
    "\n",
    "matplotlib.style.use('ggplot')\n",
    "\n",
    "rslt.plot.bar(rot=0)"
   ]
  },
  {
   "cell_type": "markdown",
   "metadata": {},
   "source": [
    "**Tokenization**"
   ]
  },
  {
   "cell_type": "code",
   "execution_count": 6,
   "metadata": {},
   "outputs": [
    {
     "data": {
      "text/plain": [
       "0       [haschisch, und, marihuana, sollen, legalisier...\n",
       "1       [die, bundeswehr, soll, die, polizei, innerhal...\n",
       "2       [die, geschäfte, sollen, am, sonntag, geöffnet...\n",
       "3       [die, humane, genomforschung, soll, verboten, ...\n",
       "4                 [kampfhunde, sollten, verboten, werden]\n",
       "                              ...                        \n",
       "2016    [das, land, soll, mehr, finanzielle, mittel, f...\n",
       "2017    [die, gebühren, für, ein, zweitstudium, sollen...\n",
       "2018    [die, arbeitsbedingungen, in, betrieben, mit, ...\n",
       "2019    [sachsen, anhalt, soll, die, begrenzung, der, ...\n",
       "2020    [sachsen, anhalt, soll, spätestens, 2035, klim...\n",
       "Name: text, Length: 2021, dtype: object"
      ]
     },
     "execution_count": 6,
     "metadata": {},
     "output_type": "execute_result"
    }
   ],
   "source": [
    "df['text'].apply(word_tokenize)"
   ]
  },
  {
   "cell_type": "markdown",
   "metadata": {},
   "source": [
    "**Removing Stop Words**"
   ]
  },
  {
   "cell_type": "code",
   "execution_count": 7,
   "metadata": {},
   "outputs": [
    {
     "data": {
      "text/plain": [
       "0             [haschisch, marihuana, sollen, legalisiert]\n",
       "1       [bundeswehr, polizei, innerhalb, deutschlands,...\n",
       "2                  [geschäfte, sollen, sonntag, geöffnet]\n",
       "3                      [humane, genomforschung, verboten]\n",
       "4                         [kampfhunde, sollten, verboten]\n",
       "                              ...                        \n",
       "2016    [land, mehr, finanzielle, mittel, frauenhäuser...\n",
       "2017    [gebühren, zweitstudium, sollen, sachsen, anha...\n",
       "2018    [arbeitsbedingungen, betrieben, saisonarbeitsk...\n",
       "2019    [sachsen, anhalt, begrenzung, neuverschuldung,...\n",
       "2020    [sachsen, anhalt, spätestens, 2035, klimaneutral]\n",
       "Name: text, Length: 2021, dtype: object"
      ]
     },
     "execution_count": 7,
     "metadata": {},
     "output_type": "execute_result"
    }
   ],
   "source": [
    "df['text'] = df['text'].apply(lambda x: [item for item in x.split() if item not in stop])\n",
    "df['text']"
   ]
  },
  {
   "cell_type": "code",
   "execution_count": 8,
   "metadata": {},
   "outputs": [
    {
     "data": {
      "text/plain": [
       "0                  haschisch marihuana sollen legalisiert\n",
       "1       bundeswehr polizei innerhalb deutschlands unte...\n",
       "2                       geschäfte sollen sonntag geöffnet\n",
       "3                          humane genomforschung verboten\n",
       "4                             kampfhunde sollten verboten\n",
       "                              ...                        \n",
       "2016    land mehr finanzielle mittel frauenhäuser bere...\n",
       "2017    gebühren zweitstudium sollen sachsen anhalt ab...\n",
       "2018    arbeitsbedingungen betrieben saisonarbeitskräf...\n",
       "2019    sachsen anhalt begrenzung neuverschuldung schu...\n",
       "2020          sachsen anhalt spätestens 2035 klimaneutral\n",
       "Name: text, Length: 2021, dtype: object"
      ]
     },
     "execution_count": 8,
     "metadata": {},
     "output_type": "execute_result"
    }
   ],
   "source": [
    "#convert the datafram to string\n",
    "df['text']=df['text'].apply(lambda x: ' '.join(x))\n",
    "df['text']"
   ]
  },
  {
   "cell_type": "markdown",
   "metadata": {
    "id": "YN9-uuUMuNdl"
   },
   "source": [
    "### 4. Prepare the Data"
   ]
  },
  {
   "cell_type": "markdown",
   "metadata": {
    "id": "fcmz1V1EuNlD"
   },
   "source": [
    "**Split the dataset to test and train**"
   ]
  },
  {
   "cell_type": "code",
   "execution_count": 26,
   "metadata": {},
   "outputs": [],
   "source": [
    "#drop the neutral row(you may also decide to exclude this neutral class and train only a binary classifier: agreement vs. disagreement)\n",
    "df.drop(df[df['spd'] == 2].index, inplace = True)"
   ]
  },
  {
   "cell_type": "code",
   "execution_count": 27,
   "metadata": {},
   "outputs": [],
   "source": [
    "from sklearn.model_selection import train_test_split\n",
    "X_train, X_test, y_train, y_test = train_test_split(df['text'],df['spd'],test_size=0.20, random_state=5)"
   ]
  },
  {
   "cell_type": "code",
   "execution_count": 28,
   "metadata": {},
   "outputs": [],
   "source": [
    "from sklearn.feature_extraction.text import TfidfVectorizer\n",
    "Tfidf_vect = TfidfVectorizer(max_features=5000)\n",
    "Tfidf_vect.fit(df['text'])\n",
    "Train_X_Tfidf = Tfidf_vect.transform(X_train)\n",
    "Test_X_Tfidf = Tfidf_vect.transform(X_test)"
   ]
  },
  {
   "cell_type": "markdown",
   "metadata": {
    "id": "Xeyjog3NuNsP"
   },
   "source": [
    "### 5. Shortlist Promising Models"
   ]
  },
  {
   "cell_type": "code",
   "execution_count": 29,
   "metadata": {
    "id": "ipjYs4DQuNzk"
   },
   "outputs": [],
   "source": [
    "from sklearn import model_selection, naive_bayes, svm\n",
    "from sklearn.metrics import accuracy_score"
   ]
  },
  {
   "cell_type": "markdown",
   "metadata": {},
   "source": [
    "**Naive bayes**"
   ]
  },
  {
   "cell_type": "code",
   "execution_count": 15,
   "metadata": {},
   "outputs": [
    {
     "name": "stdout",
     "output_type": "stream",
     "text": [
      "Accuracy: 69.53%\n",
      "Precision: 69.58%\n",
      "Recall: 67.61%\n",
      "F1 Score:  0.6774062520309352\n"
     ]
    },
    {
     "data": {
      "image/png": "[encoded data removed]",
      "text/plain": [
       "<Figure size 432x288 with 2 Axes>"
      ]
     },
     "metadata": {},
     "output_type": "display_data"
    }
   ],
   "source": [
    "# fit the training dataset on the NB classifier\n",
    "Naive = naive_bayes.MultinomialNB()\n",
    "Naive.fit(Train_X_Tfidf,y_train)\n",
    "# predict the labels on validation dataset\n",
    "predictions_NB = Naive.predict(Test_X_Tfidf)\n",
    "\n",
    "# Use accuracy_score function to get the accuracy\n",
    "acc_score = metrics.accuracy_score(predictions_NB,y_test)\n",
    "#Measure Precission\n",
    "prec_score = precision_score(y_test,predictions_NB, average='macro')\n",
    "#Measure Recall\n",
    "recall = recall_score(y_test, predictions_NB,average='macro')\n",
    "#Measure F1 Score\n",
    "f1 = f1_score(y_test,predictions_NB,average='macro')\n",
    "#confusion Matrix\n",
    "matrix = confusion_matrix(y_test,predictions_NB)\n",
    "\n",
    "#Print Accuracy\n",
    "print(str('Accuracy: '+'{:04.2f}'.format(acc_score*100))+'%')\n",
    "#Print Precission\n",
    "print(str('Precision: '+'{:04.2f}'.format(prec_score*100))+'%')\n",
    "# Print Recall\n",
    "print(str('Recall: '+'{:04.2f}'.format(recall*100))+'%')\n",
    "#Print F1 Score\n",
    "print('F1 Score: ',f1)\n",
    "#Draw confusion Matrix\n",
    "ax= plt.subplot()\n",
    "sns.heatmap(matrix, annot=True, fmt='g', ax=ax);  #annot=True to annotate cells, ftm='g' to disable scientific notation\n",
    "\n",
    "# labels, title and ticks\n",
    "ax.set_xlabel('Predicted labels');ax.set_ylabel('True labels'); \n",
    "ax.set_title('Confusion Matrix'); \n",
    "ax.xaxis.set_ticklabels([0, 1]); ax.yaxis.set_ticklabels([1, 0]);"
   ]
  },
  {
   "cell_type": "markdown",
   "metadata": {},
   "source": [
    "**SVM MODEL**"
   ]
  },
  {
   "cell_type": "code",
   "execution_count": 16,
   "metadata": {},
   "outputs": [
    {
     "name": "stdout",
     "output_type": "stream",
     "text": [
      "Accuracy: 71.75%\n",
      "Precision: 73.83%\n",
      "Recall: 69.06%\n",
      "F1 Score:  0.690238239450838\n"
     ]
    },
    {
     "data": {
      "image/png": "[encoded data removed]",
      "text/plain": [
       "<Figure size 432x288 with 2 Axes>"
      ]
     },
     "metadata": {},
     "output_type": "display_data"
    }
   ],
   "source": [
    "SVM = svm.SVC()\n",
    "SVM.fit(Train_X_Tfidf,y_train)\n",
    "# predict the labels on validation dataset\n",
    "predictions_SVM = SVM.predict(Test_X_Tfidf)\n",
    "\n",
    "# Use accuracy_score function to get the accuracy\n",
    "acc_score = metrics.accuracy_score(predictions_SVM ,y_test)\n",
    "#Measure Precission\n",
    "prec_score = precision_score(y_test,predictions_SVM , average='macro')\n",
    "#Measure Recall\n",
    "recall = recall_score(y_test, predictions_SVM ,average='macro')\n",
    "#Measure F1 Score\n",
    "f1 = f1_score(y_test,predictions_SVM ,average='macro')\n",
    "matrix = confusion_matrix(y_test,predictions_SVM)\n",
    "\n",
    "#Print Accuracy\n",
    "print(str('Accuracy: '+'{:04.2f}'.format(acc_score*100))+'%')\n",
    "#Print Precission\n",
    "print(str('Precision: '+'{:04.2f}'.format(prec_score*100))+'%')\n",
    "# Print Recall\n",
    "print(str('Recall: '+'{:04.2f}'.format(recall*100))+'%')\n",
    "#Print F1 Score\n",
    "print('F1 Score: ',f1)\n",
    "#Draw confusion Matrix\n",
    "ax= plt.subplot()\n",
    "sns.heatmap(matrix, annot=True, fmt='g', ax=ax);  #annot=True to annotate cells, ftm='g' to disable scientific notation\n",
    "\n",
    "# labels, title and ticks\n",
    "ax.set_xlabel('Predicted labels');ax.set_ylabel('True labels'); \n",
    "ax.set_title('Confusion Matrix'); \n",
    "ax.xaxis.set_ticklabels([0, 1]); ax.yaxis.set_ticklabels([1, 0]);"
   ]
  },
  {
   "cell_type": "markdown",
   "metadata": {
    "id": "OOTKR95UuN68"
   },
   "source": [
    "### 6. Fine-tune the System"
   ]
  },
  {
   "cell_type": "markdown",
   "metadata": {},
   "source": [
    "**OverSample The Data**"
   ]
  },
  {
   "cell_type": "code",
   "execution_count": 21,
   "metadata": {
    "id": "GmGp2YVquODC"
   },
   "outputs": [
    {
     "data": {
      "text/plain": [
       "<AxesSubplot:xlabel='spd', ylabel='count'>"
      ]
     },
     "execution_count": 21,
     "metadata": {},
     "output_type": "execute_result"
    },
    {
     "data": {
      "image/png": "[encoded data removed]",
      "text/plain": [
       "<Figure size 432x288 with 1 Axes>"
      ]
     },
     "metadata": {},
     "output_type": "display_data"
    }
   ],
   "source": [
    "import seaborn as sc\n",
    "sc.countplot(data = df, x= 'spd')"
   ]
  },
  {
   "cell_type": "code",
   "execution_count": 22,
   "metadata": {},
   "outputs": [],
   "source": [
    "# Class count\n",
    "count_class_0, count_class_1 = df.spd.value_counts()\n",
    "\n",
    "# Divide by class\n",
    "df_class_0 = df[df['spd'] == 0]\n",
    "df_class_1 = df[df['spd'] == 1]\n",
    "\n",
    "# Oversample 1-class and concat the DataFrames of both classes\n",
    "df_class_1_over = df_class_1.sample(count_class_0, replace=True)\n",
    "df_test_over = pd.concat([df_class_0, df_class_1_over], axis=0)\n"
   ]
  },
  {
   "cell_type": "code",
   "execution_count": 23,
   "metadata": {},
   "outputs": [],
   "source": [
    "X_train, X_test, y_train, y_test = train_test_split(df_test_over['text'],df_test_over['spd'],test_size=0.2, random_state=5)\n",
    "\n",
    "from sklearn.feature_extraction.text import TfidfVectorizer\n",
    "Tfidf_vect = TfidfVectorizer(max_features=5000)\n",
    "Tfidf_vect.fit(df['text'])\n",
    "Train_X_Tfidf = Tfidf_vect.transform(X_train)\n",
    "Test_X_Tfidf = Tfidf_vect.transform(X_test)"
   ]
  },
  {
   "cell_type": "markdown",
   "metadata": {},
   "source": [
    "**Result of NB**"
   ]
  },
  {
   "cell_type": "code",
   "execution_count": 24,
   "metadata": {},
   "outputs": [
    {
     "name": "stdout",
     "output_type": "stream",
     "text": [
      "Accuracy: 77.75%\n",
      "Precision: 77.79%\n",
      "Recall: 77.89%\n",
      "F1 Score:  0.7773730268391743\n"
     ]
    },
    {
     "data": {
      "image/png": "[encoded data removed]",
      "text/plain": [
       "<Figure size 432x288 with 2 Axes>"
      ]
     },
     "metadata": {},
     "output_type": "display_data"
    }
   ],
   "source": [
    "# fit the training dataset on the NB classifier\n",
    "Naive = naive_bayes.MultinomialNB()\n",
    "Naive.fit(Train_X_Tfidf,y_train)\n",
    "# predict the labels on validation dataset\n",
    "predictions_NB = Naive.predict(Test_X_Tfidf)\n",
    "\n",
    "# Use accuracy_score function to get the accuracy\n",
    "acc_score = metrics.accuracy_score(predictions_NB,y_test)\n",
    "#Measure Precission\n",
    "prec_score = precision_score(y_test,predictions_NB, average='macro')\n",
    "#Measure Recall\n",
    "recall = recall_score(y_test, predictions_NB,average='macro')\n",
    "#Measure F1 Score\n",
    "f1 = f1_score(y_test,predictions_NB,average='macro')\n",
    "#confusion Matrix\n",
    "matrix = confusion_matrix(y_test,predictions_NB)\n",
    "\n",
    "#Print Accuracy\n",
    "print(str('Accuracy: '+'{:04.2f}'.format(acc_score*100))+'%')\n",
    "#Print Precission\n",
    "print(str('Precision: '+'{:04.2f}'.format(prec_score*100))+'%')\n",
    "# Print Recall\n",
    "print(str('Recall: '+'{:04.2f}'.format(recall*100))+'%')\n",
    "#Print F1 Score\n",
    "print('F1 Score: ',f1)\n",
    "#Draw confusion Matrix\n",
    "ax= plt.subplot()\n",
    "sns.heatmap(matrix, annot=True, fmt='g', ax=ax);  #annot=True to annotate cells, ftm='g' to disable scientific notation\n",
    "\n",
    "# labels, title and ticks\n",
    "ax.set_xlabel('Predicted labels');ax.set_ylabel('True labels'); \n",
    "ax.set_title('Confusion Matrix'); \n",
    "ax.xaxis.set_ticklabels([0, 1]); ax.yaxis.set_ticklabels([1, 0]);"
   ]
  },
  {
   "cell_type": "markdown",
   "metadata": {},
   "source": [
    "**SVM MODEL**"
   ]
  },
  {
   "cell_type": "code",
   "execution_count": 25,
   "metadata": {},
   "outputs": [
    {
     "name": "stdout",
     "output_type": "stream",
     "text": [
      "Accuracy: 85.82%\n",
      "Precision: 86.25%\n",
      "Recall: 85.47%\n",
      "F1 Score:  0.8564530183472916\n"
     ]
    },
    {
     "data": {
      "image/png": "[encoded data removed]",
      "text/plain": [
       "<Figure size 432x288 with 2 Axes>"
      ]
     },
     "metadata": {},
     "output_type": "display_data"
    }
   ],
   "source": [
    "SVM = svm.SVC()\n",
    "SVM.fit(Train_X_Tfidf,y_train)\n",
    "# predict the labels on validation dataset\n",
    "predictions_SVM = SVM.predict(Test_X_Tfidf)\n",
    "\n",
    "# Use accuracy_score function to get the accuracy\n",
    "acc_score = metrics.accuracy_score(predictions_SVM ,y_test)\n",
    "#Measure Precission\n",
    "prec_score = precision_score(y_test,predictions_SVM , average='macro')\n",
    "#Measure Recall\n",
    "recall = recall_score(y_test, predictions_SVM ,average='macro')\n",
    "#Measure F1 Score\n",
    "f1 = f1_score(y_test,predictions_SVM ,average='macro')\n",
    "matrix = confusion_matrix(y_test,predictions_SVM)\n",
    "\n",
    "#Print Accuracy\n",
    "print(str('Accuracy: '+'{:04.2f}'.format(acc_score*100))+'%')\n",
    "#Print Precission\n",
    "print(str('Precision: '+'{:04.2f}'.format(prec_score*100))+'%')\n",
    "# Print Recall\n",
    "print(str('Recall: '+'{:04.2f}'.format(recall*100))+'%')\n",
    "#Print F1 Score\n",
    "print('F1 Score: ',f1)\n",
    "#Draw confusion Matrix\n",
    "ax= plt.subplot()\n",
    "sns.heatmap(matrix, annot=True, fmt='g', ax=ax);  #annot=True to annotate cells, ftm='g' to disable scientific notation\n",
    "\n",
    "# labels, title and ticks\n",
    "ax.set_xlabel('Predicted labels');ax.set_ylabel('True labels'); \n",
    "ax.set_title('Confusion Matrix'); \n",
    "ax.xaxis.set_ticklabels([0, 1]); ax.yaxis.set_ticklabels([1, 0]);"
   ]
  },
  {
   "cell_type": "markdown",
   "metadata": {
    "id": "LO1Hrds1uOOj"
   },
   "source": [
    "### 7. Solution"
   ]
  },
  {
   "cell_type": "markdown",
   "metadata": {
    "id": "6BFB_Ll2uOXO"
   },
   "source": [
    "In my comparison the Support Vector Machine has always performed better than the naive bayes classifier, no matter with or without fine tuning. The fine tuning was able to boost the accurcay by 10 % to approx 84%. In the fine tuning section I adjusted the dataset to balanced calss with the same amount of agreement and disagreements.\n",
    "In my opinion, an adequate number of models were trained and compared with each other. Unfortunately, I did not succeed in using the pre-trained Bert-base-cased model based from the 'hugging face' website. In addition, the management of libraries was very challenging and problematic, as different packages were not compatible with each other. Due to the selection of my models, I did not experience any problems with my system performance. If I had more time, I would have added LDA analysis and topic clustering to the data exploration section. Furthermore, I would expand the selection of my models and incorporate also neuronal networks. Finally it would be nice to fine tune some hyperparameter but this was beyond my knowledge.\n"
   ]
  }
 ],
 "metadata": {
  "colab": {
   "collapsed_sections": [],
   "name": "PolPred_SubmissionTemplate.ipynb",
   "provenance": []
  },
  "kernelspec": {
   "display_name": "Python 3 (ipykernel)",
   "language": "python",
   "name": "python3"
  },
  "language_info": {
   "codemirror_mode": {
    "name": "ipython",
    "version": 3
   },
   "file_extension": ".py",
   "mimetype": "text/x-python",
   "name": "python",
   "nbconvert_exporter": "python",
   "pygments_lexer": "ipython3",
   "version": "3.9.12"
  }
 },
 "nbformat": 4,
 "nbformat_minor": 1
}
